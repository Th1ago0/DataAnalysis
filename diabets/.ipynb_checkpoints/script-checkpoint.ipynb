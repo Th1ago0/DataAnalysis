{
 "cells": [
  {
   "cell_type": "code",
   "execution_count": 1,
   "id": "a9a8bcb7-bec3-42ed-8dc8-b4f7a0f92407",
   "metadata": {},
   "outputs": [],
   "source": [
    "import pandas as pd\n",
    "import sqlite3"
   ]
  },
  {
   "cell_type": "code",
   "execution_count": 2,
   "id": "e36a3b9c-0a31-41bc-92fd-ecda0e93f75e",
   "metadata": {
    "scrolled": true
   },
   "outputs": [],
   "source": [
    "#!pip install ipython-sql\n",
    "%load_ext sql"
   ]
  },
  {
   "cell_type": "code",
   "execution_count": 3,
   "id": "5b16673f-a986-4aa9-874f-19056fe269d2",
   "metadata": {},
   "outputs": [],
   "source": [
    "#it defines the database\n",
    "%sql sqlite:///Database/Database.db"
   ]
  },
  {
   "cell_type": "code",
   "execution_count": 4,
   "id": "2153e3cb-fc05-48d6-a24e-c6d2c799e3f6",
   "metadata": {},
   "outputs": [],
   "source": [
    "df = pd.DataFrame(\n",
    "    {\n",
    "        'name':['siri','alexa'],\n",
    "        'idade':[23,20],\n",
    "        'cargo':['Analista de Dados','Cientista de Dados']\n",
    "    }\n",
    ")\n",
    "conn = sqlite3.connect('Database/Database.db')"
   ]
  },
  {
   "cell_type": "code",
   "execution_count": 5,
   "id": "21cb6d3b-446b-4f85-8e9d-138eeacd3fd0",
   "metadata": {},
   "outputs": [
    {
     "data": {
      "text/plain": [
       "2"
      ]
     },
     "execution_count": 5,
     "metadata": {},
     "output_type": "execute_result"
    }
   ],
   "source": [
    "df.to_sql('funcionarios',conn)"
   ]
  },
  {
   "cell_type": "code",
   "execution_count": 6,
   "id": "db8475a4-01d2-436d-8404-df766715feac",
   "metadata": {},
   "outputs": [],
   "source": [
    "#direct sql queries in sql"
   ]
  },
  {
   "cell_type": "code",
   "execution_count": 7,
   "id": "7eff286d-8a86-451c-a319-760844cdfc7d",
   "metadata": {
    "collapsed": true,
    "jupyter": {
     "outputs_hidden": true
    },
    "scrolled": true
   },
   "outputs": [
    {
     "name": "stdout",
     "output_type": "stream",
     "text": [
      " * sqlite:///Database/Database.db\n",
      "Done.\n"
     ]
    },
    {
     "data": {
      "text/html": [
       "<table>\n",
       "    <thead>\n",
       "        <tr>\n",
       "            <th>count(*)</th>\n",
       "        </tr>\n",
       "    </thead>\n",
       "    <tbody>\n",
       "        <tr>\n",
       "            <td>2</td>\n",
       "        </tr>\n",
       "    </tbody>\n",
       "</table>"
      ],
      "text/plain": [
       "[(2,)]"
      ]
     },
     "execution_count": 7,
     "metadata": {},
     "output_type": "execute_result"
    }
   ],
   "source": [
    "%%sql\n",
    "\n",
    "SELECT count(*) FROM funcionarios"
   ]
  },
  {
   "cell_type": "code",
   "execution_count": 8,
   "id": "c54aeaff-3004-4dc0-8f7f-a34bc8e317a7",
   "metadata": {
    "collapsed": true,
    "jupyter": {
     "outputs_hidden": true
    }
   },
   "outputs": [
    {
     "name": "stdout",
     "output_type": "stream",
     "text": [
      " * sqlite:///Database/Database.db\n",
      "Done.\n"
     ]
    },
    {
     "data": {
      "text/html": [
       "<table>\n",
       "    <thead>\n",
       "        <tr>\n",
       "            <th>idade_media</th>\n",
       "        </tr>\n",
       "    </thead>\n",
       "    <tbody>\n",
       "        <tr>\n",
       "            <td>21.5</td>\n",
       "        </tr>\n",
       "    </tbody>\n",
       "</table>"
      ],
      "text/plain": [
       "[(21.5,)]"
      ]
     },
     "execution_count": 8,
     "metadata": {},
     "output_type": "execute_result"
    }
   ],
   "source": [
    "%%sql\n",
    "SELECT avg(idade) as 'idade_media' FROM funcionarios"
   ]
  },
  {
   "cell_type": "code",
   "execution_count": 9,
   "id": "74cdc1ad-f7ef-4588-9fab-f326bc28b5db",
   "metadata": {},
   "outputs": [],
   "source": [
    "data = pd.read_csv('Datasets/diabetes.csv')"
   ]
  },
  {
   "cell_type": "code",
   "execution_count": 10,
   "id": "22079b8c-102d-4cd0-ba2a-2abc4796a6ff",
   "metadata": {
    "collapsed": true,
    "jupyter": {
     "outputs_hidden": true
    },
    "scrolled": true
   },
   "outputs": [
    {
     "data": {
      "text/plain": [
       "<bound method NDFrame.head of      Pregnancies  Glucose  BloodPressure  SkinThickness  Insulin   BMI  \\\n",
       "0              6      148             72             35        0  33.6   \n",
       "1              1       85             66             29        0  26.6   \n",
       "2              8      183             64              0        0  23.3   \n",
       "3              1       89             66             23       94  28.1   \n",
       "4              0      137             40             35      168  43.1   \n",
       "..           ...      ...            ...            ...      ...   ...   \n",
       "763           10      101             76             48      180  32.9   \n",
       "764            2      122             70             27        0  36.8   \n",
       "765            5      121             72             23      112  26.2   \n",
       "766            1      126             60              0        0  30.1   \n",
       "767            1       93             70             31        0  30.4   \n",
       "\n",
       "     DiabetesPedigreeFunction  Age  Outcome  \n",
       "0                       0.627   50        1  \n",
       "1                       0.351   31        0  \n",
       "2                       0.672   32        1  \n",
       "3                       0.167   21        0  \n",
       "4                       2.288   33        1  \n",
       "..                        ...  ...      ...  \n",
       "763                     0.171   63        0  \n",
       "764                     0.340   27        0  \n",
       "765                     0.245   30        0  \n",
       "766                     0.349   47        1  \n",
       "767                     0.315   23        0  \n",
       "\n",
       "[768 rows x 9 columns]>"
      ]
     },
     "execution_count": 10,
     "metadata": {},
     "output_type": "execute_result"
    }
   ],
   "source": [
    "data.head"
   ]
  },
  {
   "cell_type": "code",
   "execution_count": 11,
   "id": "90d6cee8-8049-4765-9008-07b6fdd685cf",
   "metadata": {},
   "outputs": [
    {
     "data": {
      "text/plain": [
       "768"
      ]
     },
     "execution_count": 11,
     "metadata": {},
     "output_type": "execute_result"
    }
   ],
   "source": [
    "data.to_sql('diabetes',conn)"
   ]
  },
  {
   "cell_type": "code",
   "execution_count": 12,
   "id": "5cfeccde-3dd8-4504-b65e-8510f8ced06e",
   "metadata": {
    "collapsed": true,
    "jupyter": {
     "outputs_hidden": true
    }
   },
   "outputs": [
    {
     "name": "stdout",
     "output_type": "stream",
     "text": [
      " * sqlite:///Database/Database.db\n",
      "Done.\n"
     ]
    },
    {
     "data": {
      "text/html": [
       "<table>\n",
       "    <thead>\n",
       "        <tr>\n",
       "            <th>Glucose</th>\n",
       "            <th>Age</th>\n",
       "            <th>Outcome</th>\n",
       "        </tr>\n",
       "    </thead>\n",
       "    <tbody>\n",
       "        <tr>\n",
       "            <td>197</td>\n",
       "            <td>53</td>\n",
       "            <td>1</td>\n",
       "        </tr>\n",
       "        <tr>\n",
       "            <td>196</td>\n",
       "            <td>41</td>\n",
       "            <td>1</td>\n",
       "        </tr>\n",
       "        <tr>\n",
       "            <td>194</td>\n",
       "            <td>41</td>\n",
       "            <td>1</td>\n",
       "        </tr>\n",
       "        <tr>\n",
       "            <td>196</td>\n",
       "            <td>57</td>\n",
       "            <td>1</td>\n",
       "        </tr>\n",
       "        <tr>\n",
       "            <td>197</td>\n",
       "            <td>31</td>\n",
       "            <td>0</td>\n",
       "        </tr>\n",
       "        <tr>\n",
       "            <td>193</td>\n",
       "            <td>24</td>\n",
       "            <td>0</td>\n",
       "        </tr>\n",
       "        <tr>\n",
       "            <td>191</td>\n",
       "            <td>34</td>\n",
       "            <td>0</td>\n",
       "        </tr>\n",
       "        <tr>\n",
       "            <td>194</td>\n",
       "            <td>59</td>\n",
       "            <td>1</td>\n",
       "        </tr>\n",
       "        <tr>\n",
       "            <td>196</td>\n",
       "            <td>29</td>\n",
       "            <td>1</td>\n",
       "        </tr>\n",
       "        <tr>\n",
       "            <td>193</td>\n",
       "            <td>25</td>\n",
       "            <td>1</td>\n",
       "        </tr>\n",
       "        <tr>\n",
       "            <td>197</td>\n",
       "            <td>39</td>\n",
       "            <td>1</td>\n",
       "        </tr>\n",
       "        <tr>\n",
       "            <td>194</td>\n",
       "            <td>67</td>\n",
       "            <td>0</td>\n",
       "        </tr>\n",
       "        <tr>\n",
       "            <td>195</td>\n",
       "            <td>55</td>\n",
       "            <td>1</td>\n",
       "        </tr>\n",
       "        <tr>\n",
       "            <td>198</td>\n",
       "            <td>28</td>\n",
       "            <td>1</td>\n",
       "        </tr>\n",
       "        <tr>\n",
       "            <td>197</td>\n",
       "            <td>62</td>\n",
       "            <td>1</td>\n",
       "        </tr>\n",
       "        <tr>\n",
       "            <td>199</td>\n",
       "            <td>22</td>\n",
       "            <td>1</td>\n",
       "        </tr>\n",
       "        <tr>\n",
       "            <td>195</td>\n",
       "            <td>31</td>\n",
       "            <td>1</td>\n",
       "        </tr>\n",
       "    </tbody>\n",
       "</table>"
      ],
      "text/plain": [
       "[(197, 53, 1),\n",
       " (196, 41, 1),\n",
       " (194, 41, 1),\n",
       " (196, 57, 1),\n",
       " (197, 31, 0),\n",
       " (193, 24, 0),\n",
       " (191, 34, 0),\n",
       " (194, 59, 1),\n",
       " (196, 29, 1),\n",
       " (193, 25, 1),\n",
       " (197, 39, 1),\n",
       " (194, 67, 0),\n",
       " (195, 55, 1),\n",
       " (198, 28, 1),\n",
       " (197, 62, 1),\n",
       " (199, 22, 1),\n",
       " (195, 31, 1)]"
      ]
     },
     "execution_count": 12,
     "metadata": {},
     "output_type": "execute_result"
    }
   ],
   "source": [
    "%%sql \n",
    "SELECT Glucose,Age,Outcome FROM diabetes WHERE Glucose > 190"
   ]
  },
  {
   "cell_type": "code",
   "execution_count": 13,
   "id": "2627c1fe-5c17-4065-b16a-9a9969465cb8",
   "metadata": {},
   "outputs": [
    {
     "name": "stdout",
     "output_type": "stream",
     "text": [
      " * sqlite:///Database/Database.db\n",
      "Done.\n"
     ]
    },
    {
     "data": {
      "text/plain": [
       "[]"
      ]
     },
     "execution_count": 13,
     "metadata": {},
     "output_type": "execute_result"
    }
   ],
   "source": [
    "%%sql\n",
    "CREATE TABLE pacientes(\n",
    "    Pregnancies INT,\n",
    "    Glucose INT,\n",
    "    BloodPressure INT,\n",
    "    SkinThickness INT,\n",
    "    Insulin INT,\n",
    "    BMI DECIMAL(8,2),\n",
    "    DiabetesPedigreeFunction DECIMAL(8,2),\n",
    "    Age INT,\n",
    "    Outcome INT\n",
    ")"
   ]
  },
  {
   "cell_type": "code",
   "execution_count": 14,
   "id": "c68aa7c2-16a0-4b5e-8350-d0d3a71b46be",
   "metadata": {
    "scrolled": true
   },
   "outputs": [
    {
     "name": "stdout",
     "output_type": "stream",
     "text": [
      " * sqlite:///Database/Database.db\n",
      "81 rows affected.\n"
     ]
    },
    {
     "data": {
      "text/plain": [
       "[]"
      ]
     },
     "execution_count": 14,
     "metadata": {},
     "output_type": "execute_result"
    }
   ],
   "source": [
    "%%sql\n",
    "INSERT INTO pacientes(\n",
    "    Pregnancies,\n",
    "    Glucose,\n",
    "    BloodPressure,\n",
    "    SkinThickness,\n",
    "    Insulin,\n",
    "    BMI,\n",
    "    DiabetesPedigreeFunction,\n",
    "    Age,\n",
    "    Outcome\n",
    ")\n",
    "SELECT \n",
    "Pregnancies,Glucose,\n",
    "BloodPressure,SkinThickness,\n",
    "Insulin,BMI,DiabetesPedigreeFunction,\n",
    "Age,Outcome FROM diabetes WHERE Age > 50"
   ]
  },
  {
   "cell_type": "code",
   "execution_count": null,
   "id": "a0712bf8-51ad-43c4-996f-847b25a6f5f8",
   "metadata": {},
   "outputs": [],
   "source": [
    "#These codes above filters the patients where they are 50 years old or more and have glucose above 190"
   ]
  },
  {
   "cell_type": "code",
   "execution_count": 16,
   "id": "ca925ba4-7db2-4a51-82e1-c69c181b0833",
   "metadata": {},
   "outputs": [
    {
     "name": "stdout",
     "output_type": "stream",
     "text": [
      " * sqlite:///Database/Database.db\n",
      "Done.\n"
     ]
    },
    {
     "data": {
      "text/plain": [
       "[]"
      ]
     },
     "execution_count": 16,
     "metadata": {},
     "output_type": "execute_result"
    }
   ],
   "source": [
    "%%sql\n",
    "ALTER TABLE pacientes\n",
    "ADD Situation VARCHAR(10)"
   ]
  },
  {
   "cell_type": "code",
   "execution_count": 17,
   "id": "5f035cc8-7e11-4ee7-8b1b-7e9c47fe7377",
   "metadata": {},
   "outputs": [
    {
     "name": "stdout",
     "output_type": "stream",
     "text": [
      " * sqlite:///Database/Database.db\n",
      "38 rows affected.\n"
     ]
    },
    {
     "data": {
      "text/plain": [
       "[]"
      ]
     },
     "execution_count": 17,
     "metadata": {},
     "output_type": "execute_result"
    }
   ],
   "source": [
    "%%sql\n",
    "UPDATE pacientes\n",
    "SET Situation = 'Normal'\n",
    "WHERE BMI < 30"
   ]
  },
  {
   "cell_type": "code",
   "execution_count": 18,
   "id": "c1aba562-9904-42f8-a639-ec69fcce45a7",
   "metadata": {},
   "outputs": [
    {
     "name": "stdout",
     "output_type": "stream",
     "text": [
      " * sqlite:///Database/Database.db\n",
      "43 rows affected.\n"
     ]
    },
    {
     "data": {
      "text/plain": [
       "[]"
      ]
     },
     "execution_count": 18,
     "metadata": {},
     "output_type": "execute_result"
    }
   ],
   "source": [
    "%%sql\n",
    "UPDATE pacientes\n",
    "SET Situation = 'Obese'\n",
    "WHERE BMI >= 30"
   ]
  },
  {
   "cell_type": "code",
   "execution_count": 19,
   "id": "d5dd05b8-04f3-40b6-bc28-5bf89bfa2c73",
   "metadata": {},
   "outputs": [],
   "source": [
    "query = conn.execute('SELECT * FROM pacientes')"
   ]
  },
  {
   "cell_type": "code",
   "execution_count": 20,
   "id": "230fb0ee-1f33-4b1c-b60a-767318a1f9f7",
   "metadata": {},
   "outputs": [],
   "source": [
    "cols = [coluna[0] for coluna in query.description]"
   ]
  },
  {
   "cell_type": "code",
   "execution_count": 21,
   "id": "c5a5b265-490a-4289-a9b6-8d64923aac8c",
   "metadata": {},
   "outputs": [],
   "source": [
    "result = pd.DataFrame.from_records(data=query.fetchall(),columns=cols)"
   ]
  },
  {
   "cell_type": "code",
   "execution_count": 22,
   "id": "1bed78c0-d0b5-4d8a-83ab-ea7f0f03e3c9",
   "metadata": {
    "collapsed": true,
    "jupyter": {
     "outputs_hidden": true
    }
   },
   "outputs": [
    {
     "data": {
      "text/html": [
       "<div>\n",
       "<style scoped>\n",
       "    .dataframe tbody tr th:only-of-type {\n",
       "        vertical-align: middle;\n",
       "    }\n",
       "\n",
       "    .dataframe tbody tr th {\n",
       "        vertical-align: top;\n",
       "    }\n",
       "\n",
       "    .dataframe thead th {\n",
       "        text-align: right;\n",
       "    }\n",
       "</style>\n",
       "<table border=\"1\" class=\"dataframe\">\n",
       "  <thead>\n",
       "    <tr style=\"text-align: right;\">\n",
       "      <th></th>\n",
       "      <th>Pregnancies</th>\n",
       "      <th>Glucose</th>\n",
       "      <th>BloodPressure</th>\n",
       "      <th>SkinThickness</th>\n",
       "      <th>Insulin</th>\n",
       "      <th>BMI</th>\n",
       "      <th>DiabetesPedigreeFunction</th>\n",
       "      <th>Age</th>\n",
       "      <th>Outcome</th>\n",
       "      <th>Situation</th>\n",
       "    </tr>\n",
       "  </thead>\n",
       "  <tbody>\n",
       "    <tr>\n",
       "      <th>0</th>\n",
       "      <td>2</td>\n",
       "      <td>197</td>\n",
       "      <td>70</td>\n",
       "      <td>45</td>\n",
       "      <td>543</td>\n",
       "      <td>30.5</td>\n",
       "      <td>0.158</td>\n",
       "      <td>53</td>\n",
       "      <td>1</td>\n",
       "      <td>Obese</td>\n",
       "    </tr>\n",
       "    <tr>\n",
       "      <th>1</th>\n",
       "      <td>8</td>\n",
       "      <td>125</td>\n",
       "      <td>96</td>\n",
       "      <td>0</td>\n",
       "      <td>0</td>\n",
       "      <td>0.0</td>\n",
       "      <td>0.232</td>\n",
       "      <td>54</td>\n",
       "      <td>1</td>\n",
       "      <td>Normal</td>\n",
       "    </tr>\n",
       "    <tr>\n",
       "      <th>2</th>\n",
       "      <td>10</td>\n",
       "      <td>139</td>\n",
       "      <td>80</td>\n",
       "      <td>0</td>\n",
       "      <td>0</td>\n",
       "      <td>27.1</td>\n",
       "      <td>1.441</td>\n",
       "      <td>57</td>\n",
       "      <td>0</td>\n",
       "      <td>Normal</td>\n",
       "    </tr>\n",
       "    <tr>\n",
       "      <th>3</th>\n",
       "      <td>1</td>\n",
       "      <td>189</td>\n",
       "      <td>60</td>\n",
       "      <td>23</td>\n",
       "      <td>846</td>\n",
       "      <td>30.1</td>\n",
       "      <td>0.398</td>\n",
       "      <td>59</td>\n",
       "      <td>1</td>\n",
       "      <td>Obese</td>\n",
       "    </tr>\n",
       "    <tr>\n",
       "      <th>4</th>\n",
       "      <td>5</td>\n",
       "      <td>166</td>\n",
       "      <td>72</td>\n",
       "      <td>19</td>\n",
       "      <td>175</td>\n",
       "      <td>25.8</td>\n",
       "      <td>0.587</td>\n",
       "      <td>51</td>\n",
       "      <td>1</td>\n",
       "      <td>Normal</td>\n",
       "    </tr>\n",
       "  </tbody>\n",
       "</table>\n",
       "</div>"
      ],
      "text/plain": [
       "   Pregnancies  Glucose  BloodPressure  SkinThickness  Insulin   BMI  \\\n",
       "0            2      197             70             45      543  30.5   \n",
       "1            8      125             96              0        0   0.0   \n",
       "2           10      139             80              0        0  27.1   \n",
       "3            1      189             60             23      846  30.1   \n",
       "4            5      166             72             19      175  25.8   \n",
       "\n",
       "   DiabetesPedigreeFunction  Age  Outcome Situation  \n",
       "0                     0.158   53        1     Obese  \n",
       "1                     0.232   54        1    Normal  \n",
       "2                     1.441   57        0    Normal  \n",
       "3                     0.398   59        1     Obese  \n",
       "4                     0.587   51        1    Normal  "
      ]
     },
     "execution_count": 22,
     "metadata": {},
     "output_type": "execute_result"
    }
   ],
   "source": [
    "result.head()"
   ]
  },
  {
   "cell_type": "code",
   "execution_count": 25,
   "id": "1b0925f1-2c28-4bd4-8f15-f069652a9712",
   "metadata": {},
   "outputs": [],
   "source": [
    "result.to_csv('Datasets/pacientes.csv',index=False)"
   ]
  }
 ],
 "metadata": {
  "kernelspec": {
   "display_name": "Python 3 (ipykernel)",
   "language": "python",
   "name": "python3"
  },
  "language_info": {
   "codemirror_mode": {
    "name": "ipython",
    "version": 3
   },
   "file_extension": ".py",
   "mimetype": "text/x-python",
   "name": "python",
   "nbconvert_exporter": "python",
   "pygments_lexer": "ipython3",
   "version": "3.10.6"
  }
 },
 "nbformat": 4,
 "nbformat_minor": 5
}
